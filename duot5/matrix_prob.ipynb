{
  "nbformat": 4,
  "nbformat_minor": 0,
  "metadata": {
    "colab": {
      "provenance": [],
      "collapsed_sections": [],
      "authorship_tag": "ABX9TyP0HiuhD9UGaVYQMYzcBf5V",
      "include_colab_link": true
    },
    "kernelspec": {
      "name": "python3",
      "display_name": "Python 3"
    },
    "language_info": {
      "name": "python"
    }
  },
  "cells": [
    {
      "cell_type": "markdown",
      "metadata": {
        "id": "view-in-github",
        "colab_type": "text"
      },
      "source": [
        "<a href=\"https://colab.research.google.com/github/smilingashutosh/qpp-eval-new/blob/main/duot5/matrix_prob.ipynb\" target=\"_parent\"><img src=\"https://colab.research.google.com/assets/colab-badge.svg\" alt=\"Open In Colab\"/></a>"
      ]
    },
    {
      "cell_type": "code",
      "execution_count": 157,
      "metadata": {
        "id": "JjJpUC_c0N7s"
      },
      "outputs": [],
      "source": [
        "# library\n",
        "import seaborn as sns\n",
        "import pandas as pd\n",
        "import numpy as np\n",
        "import matplotlib.pyplot as plt"
      ]
    },
    {
      "cell_type": "code",
      "source": [
        "#Files for sparse retrieval model(bm25 + monoT5) \n",
        "\n",
        "res_file = 'https://raw.githubusercontent.com/smilingashutosh/qpp-eval-new/main/res_files/02bm25.1000.mt5.50/res.bm25.1000.monot5.50.mmnorm'\n",
        "pairwise_file = 'https://raw.githubusercontent.com/smilingashutosh/qpp-eval-new/main/res_files/02bm25.1000.mt5.50/duoT5.50.score.softmax.pairwise.doc.tsv'\n",
        "querywise_performance = 'https://raw.githubusercontent.com/smilingashutosh/qpp-eval-new/main/duot5/monot5__trecDL_performance.csv'\n",
        "query_index = 1  # Good cases : qid_np[1],qid_np[2],qid_np[3]   Bad cases:qid_np[92] , qid_np[94] ,qid_np[94] \n",
        "\n",
        "## files for BM25 model  \n",
        "\n",
        "# res_file = 'https://raw.githubusercontent.com/smilingashutosh/qpp-eval-new/main/msmarco_runs/11bm25.50/res.bm25.50.mmnorm'\n",
        "# pairwise_file = 'https://raw.githubusercontent.com/smilingashutosh/qpp-eval-new/main/msmarco_runs/11bm25.50/duoT5.50.score.softmax.pairwise.doc.tsv'\n",
        "# querywise_performance = 'https://raw.githubusercontent.com/smilingashutosh/qpp-eval-new/main/duot5/bm25__trecDL_performance.csv'\n",
        "# query_index = 1  # Good cases : qid_np[1],qid_np[2],qid_np[3]   Bad cases:qid_np[92] , qid_np[94] ,qid_np[94] \n",
        "\n",
        "## files for Dense index model (Colbert e2e) \n",
        "\n",
        "# res_file = 'https://raw.githubusercontent.com/smilingashutosh/qpp-eval-new/main/msmarco_runs/07ColBERT.E2E/E2E.res.50.mmnorm'\n",
        "# pairwise_file = 'https://raw.githubusercontent.com/smilingashutosh/qpp-eval-new/main/msmarco_runs/07ColBERT.E2E/duoT5.50.score.softmax.pairwise.doc.tsv'\n",
        "# querywise_performance = 'https://raw.githubusercontent.com/smilingashutosh/qpp-eval-new/main/duot5/colbert_e2e_trecDL_performance.csv'\n",
        "# query_index = 1  # Good cases : qid_np[1],qid_np[2],qid_np[3]   Bad cases:qid_np[92] , qid_np[94] ,qid_np[94] "
      ],
      "metadata": {
        "id": "IlgdfyTFwZSZ"
      },
      "execution_count": 158,
      "outputs": []
    },
    {
      "cell_type": "markdown",
      "source": [
        "## Examine query-wise performance for good and bad cases\n"
      ],
      "metadata": {
        "id": "CJH3RWNXxSSq"
      }
    },
    {
      "cell_type": "code",
      "source": [
        "cols=['qid','AP','nDCG','PRC-QPP']\n",
        "qid_df= pd.read_csv(querywise_performance,names=cols,sep=',')\n",
        "qid_df = qid_df.sort_values(by='AP',ascending=False).reset_index(drop=True)\n",
        "\n",
        "print(qid_df.head(5))\n",
        "print(qid_df.tail(5))"
      ],
      "metadata": {
        "colab": {
          "base_uri": "https://localhost:8080/"
        },
        "id": "y9-XYCAyxV94",
        "outputId": "3dfe6518-102a-4a87-ab41-65d5ad02c104"
      },
      "execution_count": 159,
      "outputs": [
        {
          "output_type": "stream",
          "name": "stdout",
          "text": [
            "       qid      AP    nDCG   PRC-QPP\n",
            "0   855410  1.0000  1.0000  1.784100\n",
            "1   324585  0.9751  0.9936  2.166629\n",
            "2  1105792  0.8797  0.8832  1.790984\n",
            "3  1127540  0.8762  0.9275  2.241000\n",
            "4   962179  0.8082  0.9250  1.864283\n",
            "        qid      AP    nDCG   PRC-QPP\n",
            "92   489204  0.0596  0.1550  1.214261\n",
            "93   118440  0.0172  0.1081  1.954216\n",
            "94  1063750  0.0143  0.0632  1.487847\n",
            "95   443396  0.0142  0.1096  1.712041\n",
            "96   405163  0.0017  0.0298  1.558940\n"
          ]
        }
      ]
    },
    {
      "cell_type": "markdown",
      "source": [
        "###Finding unique query ids and selecting one"
      ],
      "metadata": {
        "id": "q3NV7RiYyD19"
      }
    },
    {
      "cell_type": "code",
      "source": [
        "qid_np = qid_df['qid'].unique()\n",
        "qid_np[query_index]"
      ],
      "metadata": {
        "colab": {
          "base_uri": "https://localhost:8080/"
        },
        "id": "d8V4tOMtxhl0",
        "outputId": "7af208f6-6e93-49ed-dae9-cc0a2fa0c4bd"
      },
      "execution_count": 160,
      "outputs": [
        {
          "output_type": "execute_result",
          "data": {
            "text/plain": [
              "324585"
            ]
          },
          "metadata": {},
          "execution_count": 160
        }
      ]
    },
    {
      "cell_type": "markdown",
      "source": [
        "## Importing the  Res file"
      ],
      "metadata": {
        "id": "emf2UClfG8O2"
      }
    },
    {
      "cell_type": "code",
      "source": [
        "columns=['qid','Q0','docid','rank','score','comment']\n",
        "res_df=pd.read_csv(res_file,names=columns,sep='\\t')\n",
        "res_df.head(5)"
      ],
      "metadata": {
        "colab": {
          "base_uri": "https://localhost:8080/",
          "height": 206
        },
        "id": "WPfdssDnwjGw",
        "outputId": "91cee0e4-9413-418e-d475-62027ea43f01"
      },
      "execution_count": 161,
      "outputs": [
        {
          "output_type": "execute_result",
          "data": {
            "text/plain": [
              "     qid  Q0    docid  rank     score    comment\n",
              "0  19335  Q0  8412682     0  1.000000  pyterrier\n",
              "1  19335  Q0  3045567     1  0.988172  pyterrier\n",
              "2  19335  Q0  8412683     2  0.978426  pyterrier\n",
              "3  19335  Q0  6452949     3  0.976848  pyterrier\n",
              "4  19335  Q0   342431     4  0.960322  pyterrier"
            ],
            "text/html": [
              "\n",
              "  <div id=\"df-cc5e94d6-704c-4ce2-948f-7ece2eec9dec\">\n",
              "    <div class=\"colab-df-container\">\n",
              "      <div>\n",
              "<style scoped>\n",
              "    .dataframe tbody tr th:only-of-type {\n",
              "        vertical-align: middle;\n",
              "    }\n",
              "\n",
              "    .dataframe tbody tr th {\n",
              "        vertical-align: top;\n",
              "    }\n",
              "\n",
              "    .dataframe thead th {\n",
              "        text-align: right;\n",
              "    }\n",
              "</style>\n",
              "<table border=\"1\" class=\"dataframe\">\n",
              "  <thead>\n",
              "    <tr style=\"text-align: right;\">\n",
              "      <th></th>\n",
              "      <th>qid</th>\n",
              "      <th>Q0</th>\n",
              "      <th>docid</th>\n",
              "      <th>rank</th>\n",
              "      <th>score</th>\n",
              "      <th>comment</th>\n",
              "    </tr>\n",
              "  </thead>\n",
              "  <tbody>\n",
              "    <tr>\n",
              "      <th>0</th>\n",
              "      <td>19335</td>\n",
              "      <td>Q0</td>\n",
              "      <td>8412682</td>\n",
              "      <td>0</td>\n",
              "      <td>1.000000</td>\n",
              "      <td>pyterrier</td>\n",
              "    </tr>\n",
              "    <tr>\n",
              "      <th>1</th>\n",
              "      <td>19335</td>\n",
              "      <td>Q0</td>\n",
              "      <td>3045567</td>\n",
              "      <td>1</td>\n",
              "      <td>0.988172</td>\n",
              "      <td>pyterrier</td>\n",
              "    </tr>\n",
              "    <tr>\n",
              "      <th>2</th>\n",
              "      <td>19335</td>\n",
              "      <td>Q0</td>\n",
              "      <td>8412683</td>\n",
              "      <td>2</td>\n",
              "      <td>0.978426</td>\n",
              "      <td>pyterrier</td>\n",
              "    </tr>\n",
              "    <tr>\n",
              "      <th>3</th>\n",
              "      <td>19335</td>\n",
              "      <td>Q0</td>\n",
              "      <td>6452949</td>\n",
              "      <td>3</td>\n",
              "      <td>0.976848</td>\n",
              "      <td>pyterrier</td>\n",
              "    </tr>\n",
              "    <tr>\n",
              "      <th>4</th>\n",
              "      <td>19335</td>\n",
              "      <td>Q0</td>\n",
              "      <td>342431</td>\n",
              "      <td>4</td>\n",
              "      <td>0.960322</td>\n",
              "      <td>pyterrier</td>\n",
              "    </tr>\n",
              "  </tbody>\n",
              "</table>\n",
              "</div>\n",
              "      <button class=\"colab-df-convert\" onclick=\"convertToInteractive('df-cc5e94d6-704c-4ce2-948f-7ece2eec9dec')\"\n",
              "              title=\"Convert this dataframe to an interactive table.\"\n",
              "              style=\"display:none;\">\n",
              "        \n",
              "  <svg xmlns=\"http://www.w3.org/2000/svg\" height=\"24px\"viewBox=\"0 0 24 24\"\n",
              "       width=\"24px\">\n",
              "    <path d=\"M0 0h24v24H0V0z\" fill=\"none\"/>\n",
              "    <path d=\"M18.56 5.44l.94 2.06.94-2.06 2.06-.94-2.06-.94-.94-2.06-.94 2.06-2.06.94zm-11 1L8.5 8.5l.94-2.06 2.06-.94-2.06-.94L8.5 2.5l-.94 2.06-2.06.94zm10 10l.94 2.06.94-2.06 2.06-.94-2.06-.94-.94-2.06-.94 2.06-2.06.94z\"/><path d=\"M17.41 7.96l-1.37-1.37c-.4-.4-.92-.59-1.43-.59-.52 0-1.04.2-1.43.59L10.3 9.45l-7.72 7.72c-.78.78-.78 2.05 0 2.83L4 21.41c.39.39.9.59 1.41.59.51 0 1.02-.2 1.41-.59l7.78-7.78 2.81-2.81c.8-.78.8-2.07 0-2.86zM5.41 20L4 18.59l7.72-7.72 1.47 1.35L5.41 20z\"/>\n",
              "  </svg>\n",
              "      </button>\n",
              "      \n",
              "  <style>\n",
              "    .colab-df-container {\n",
              "      display:flex;\n",
              "      flex-wrap:wrap;\n",
              "      gap: 12px;\n",
              "    }\n",
              "\n",
              "    .colab-df-convert {\n",
              "      background-color: #E8F0FE;\n",
              "      border: none;\n",
              "      border-radius: 50%;\n",
              "      cursor: pointer;\n",
              "      display: none;\n",
              "      fill: #1967D2;\n",
              "      height: 32px;\n",
              "      padding: 0 0 0 0;\n",
              "      width: 32px;\n",
              "    }\n",
              "\n",
              "    .colab-df-convert:hover {\n",
              "      background-color: #E2EBFA;\n",
              "      box-shadow: 0px 1px 2px rgba(60, 64, 67, 0.3), 0px 1px 3px 1px rgba(60, 64, 67, 0.15);\n",
              "      fill: #174EA6;\n",
              "    }\n",
              "\n",
              "    [theme=dark] .colab-df-convert {\n",
              "      background-color: #3B4455;\n",
              "      fill: #D2E3FC;\n",
              "    }\n",
              "\n",
              "    [theme=dark] .colab-df-convert:hover {\n",
              "      background-color: #434B5C;\n",
              "      box-shadow: 0px 1px 3px 1px rgba(0, 0, 0, 0.15);\n",
              "      filter: drop-shadow(0px 1px 2px rgba(0, 0, 0, 0.3));\n",
              "      fill: #FFFFFF;\n",
              "    }\n",
              "  </style>\n",
              "\n",
              "      <script>\n",
              "        const buttonEl =\n",
              "          document.querySelector('#df-cc5e94d6-704c-4ce2-948f-7ece2eec9dec button.colab-df-convert');\n",
              "        buttonEl.style.display =\n",
              "          google.colab.kernel.accessAllowed ? 'block' : 'none';\n",
              "\n",
              "        async function convertToInteractive(key) {\n",
              "          const element = document.querySelector('#df-cc5e94d6-704c-4ce2-948f-7ece2eec9dec');\n",
              "          const dataTable =\n",
              "            await google.colab.kernel.invokeFunction('convertToInteractive',\n",
              "                                                     [key], {});\n",
              "          if (!dataTable) return;\n",
              "\n",
              "          const docLinkHtml = 'Like what you see? Visit the ' +\n",
              "            '<a target=\"_blank\" href=https://colab.research.google.com/notebooks/data_table.ipynb>data table notebook</a>'\n",
              "            + ' to learn more about interactive tables.';\n",
              "          element.innerHTML = '';\n",
              "          dataTable['output_type'] = 'display_data';\n",
              "          await google.colab.output.renderOutput(dataTable, element);\n",
              "          const docLink = document.createElement('div');\n",
              "          docLink.innerHTML = docLinkHtml;\n",
              "          element.appendChild(docLink);\n",
              "        }\n",
              "      </script>\n",
              "    </div>\n",
              "  </div>\n",
              "  "
            ]
          },
          "metadata": {},
          "execution_count": 161
        }
      ]
    },
    {
      "cell_type": "markdown",
      "source": [
        "### Selecting the res file for a particular case (Query-id)"
      ],
      "metadata": {
        "id": "4iib0uj2yIKs"
      }
    },
    {
      "cell_type": "code",
      "source": [
        "res_df_qid = res_df[res_df['qid'] == qid_np[query_index]].sort_values(by='rank',ascending=True)  #change the query id here\n",
        "res_df_qid = res_df_qid.reset_index(drop=True)\n",
        "res_df_qid.head(2)"
      ],
      "metadata": {
        "colab": {
          "base_uri": "https://localhost:8080/",
          "height": 112
        },
        "id": "F2FSf61fTVds",
        "outputId": "2cff29db-2d99-4a0a-9aed-e9df61338969"
      },
      "execution_count": 162,
      "outputs": [
        {
          "output_type": "execute_result",
          "data": {
            "text/plain": [
              "      qid  Q0    docid  rank     score    comment\n",
              "0  324585  Q0  8290314     0  1.000000  pyterrier\n",
              "1  324585  Q0   405281     1  0.999842  pyterrier"
            ],
            "text/html": [
              "\n",
              "  <div id=\"df-2c14d6f4-9ffe-49cf-9577-d04fd7eefa8d\">\n",
              "    <div class=\"colab-df-container\">\n",
              "      <div>\n",
              "<style scoped>\n",
              "    .dataframe tbody tr th:only-of-type {\n",
              "        vertical-align: middle;\n",
              "    }\n",
              "\n",
              "    .dataframe tbody tr th {\n",
              "        vertical-align: top;\n",
              "    }\n",
              "\n",
              "    .dataframe thead th {\n",
              "        text-align: right;\n",
              "    }\n",
              "</style>\n",
              "<table border=\"1\" class=\"dataframe\">\n",
              "  <thead>\n",
              "    <tr style=\"text-align: right;\">\n",
              "      <th></th>\n",
              "      <th>qid</th>\n",
              "      <th>Q0</th>\n",
              "      <th>docid</th>\n",
              "      <th>rank</th>\n",
              "      <th>score</th>\n",
              "      <th>comment</th>\n",
              "    </tr>\n",
              "  </thead>\n",
              "  <tbody>\n",
              "    <tr>\n",
              "      <th>0</th>\n",
              "      <td>324585</td>\n",
              "      <td>Q0</td>\n",
              "      <td>8290314</td>\n",
              "      <td>0</td>\n",
              "      <td>1.000000</td>\n",
              "      <td>pyterrier</td>\n",
              "    </tr>\n",
              "    <tr>\n",
              "      <th>1</th>\n",
              "      <td>324585</td>\n",
              "      <td>Q0</td>\n",
              "      <td>405281</td>\n",
              "      <td>1</td>\n",
              "      <td>0.999842</td>\n",
              "      <td>pyterrier</td>\n",
              "    </tr>\n",
              "  </tbody>\n",
              "</table>\n",
              "</div>\n",
              "      <button class=\"colab-df-convert\" onclick=\"convertToInteractive('df-2c14d6f4-9ffe-49cf-9577-d04fd7eefa8d')\"\n",
              "              title=\"Convert this dataframe to an interactive table.\"\n",
              "              style=\"display:none;\">\n",
              "        \n",
              "  <svg xmlns=\"http://www.w3.org/2000/svg\" height=\"24px\"viewBox=\"0 0 24 24\"\n",
              "       width=\"24px\">\n",
              "    <path d=\"M0 0h24v24H0V0z\" fill=\"none\"/>\n",
              "    <path d=\"M18.56 5.44l.94 2.06.94-2.06 2.06-.94-2.06-.94-.94-2.06-.94 2.06-2.06.94zm-11 1L8.5 8.5l.94-2.06 2.06-.94-2.06-.94L8.5 2.5l-.94 2.06-2.06.94zm10 10l.94 2.06.94-2.06 2.06-.94-2.06-.94-.94-2.06-.94 2.06-2.06.94z\"/><path d=\"M17.41 7.96l-1.37-1.37c-.4-.4-.92-.59-1.43-.59-.52 0-1.04.2-1.43.59L10.3 9.45l-7.72 7.72c-.78.78-.78 2.05 0 2.83L4 21.41c.39.39.9.59 1.41.59.51 0 1.02-.2 1.41-.59l7.78-7.78 2.81-2.81c.8-.78.8-2.07 0-2.86zM5.41 20L4 18.59l7.72-7.72 1.47 1.35L5.41 20z\"/>\n",
              "  </svg>\n",
              "      </button>\n",
              "      \n",
              "  <style>\n",
              "    .colab-df-container {\n",
              "      display:flex;\n",
              "      flex-wrap:wrap;\n",
              "      gap: 12px;\n",
              "    }\n",
              "\n",
              "    .colab-df-convert {\n",
              "      background-color: #E8F0FE;\n",
              "      border: none;\n",
              "      border-radius: 50%;\n",
              "      cursor: pointer;\n",
              "      display: none;\n",
              "      fill: #1967D2;\n",
              "      height: 32px;\n",
              "      padding: 0 0 0 0;\n",
              "      width: 32px;\n",
              "    }\n",
              "\n",
              "    .colab-df-convert:hover {\n",
              "      background-color: #E2EBFA;\n",
              "      box-shadow: 0px 1px 2px rgba(60, 64, 67, 0.3), 0px 1px 3px 1px rgba(60, 64, 67, 0.15);\n",
              "      fill: #174EA6;\n",
              "    }\n",
              "\n",
              "    [theme=dark] .colab-df-convert {\n",
              "      background-color: #3B4455;\n",
              "      fill: #D2E3FC;\n",
              "    }\n",
              "\n",
              "    [theme=dark] .colab-df-convert:hover {\n",
              "      background-color: #434B5C;\n",
              "      box-shadow: 0px 1px 3px 1px rgba(0, 0, 0, 0.15);\n",
              "      filter: drop-shadow(0px 1px 2px rgba(0, 0, 0, 0.3));\n",
              "      fill: #FFFFFF;\n",
              "    }\n",
              "  </style>\n",
              "\n",
              "      <script>\n",
              "        const buttonEl =\n",
              "          document.querySelector('#df-2c14d6f4-9ffe-49cf-9577-d04fd7eefa8d button.colab-df-convert');\n",
              "        buttonEl.style.display =\n",
              "          google.colab.kernel.accessAllowed ? 'block' : 'none';\n",
              "\n",
              "        async function convertToInteractive(key) {\n",
              "          const element = document.querySelector('#df-2c14d6f4-9ffe-49cf-9577-d04fd7eefa8d');\n",
              "          const dataTable =\n",
              "            await google.colab.kernel.invokeFunction('convertToInteractive',\n",
              "                                                     [key], {});\n",
              "          if (!dataTable) return;\n",
              "\n",
              "          const docLinkHtml = 'Like what you see? Visit the ' +\n",
              "            '<a target=\"_blank\" href=https://colab.research.google.com/notebooks/data_table.ipynb>data table notebook</a>'\n",
              "            + ' to learn more about interactive tables.';\n",
              "          element.innerHTML = '';\n",
              "          dataTable['output_type'] = 'display_data';\n",
              "          await google.colab.output.renderOutput(dataTable, element);\n",
              "          const docLink = document.createElement('div');\n",
              "          docLink.innerHTML = docLinkHtml;\n",
              "          element.appendChild(docLink);\n",
              "        }\n",
              "      </script>\n",
              "    </div>\n",
              "  </div>\n",
              "  "
            ]
          },
          "metadata": {},
          "execution_count": 162
        }
      ]
    },
    {
      "cell_type": "markdown",
      "source": [
        "## Importing the pairwise probability between Doc_i and Doc_J"
      ],
      "metadata": {
        "id": "Gm6GopP-HJb-"
      }
    },
    {
      "cell_type": "code",
      "source": [
        "paircols = ['qid','docpair','prob','comment']\n",
        "pairwise_df=pd.read_csv(pairwise_file,names=paircols,sep='\\t')\n",
        "pairwise_df.head(5)"
      ],
      "metadata": {
        "colab": {
          "base_uri": "https://localhost:8080/",
          "height": 206
        },
        "id": "451uFn93w3kF",
        "outputId": "b8485d8b-4025-489f-cd2f-836979ce7d81"
      },
      "execution_count": 163,
      "outputs": [
        {
          "output_type": "execute_result",
          "data": {
            "text/plain": [
              "       qid          docpair      prob  comment\n",
              "0  1030303  8726436_8726433  0.892408  softmax\n",
              "1  1030303  8726436_8726435  0.480476  softmax\n",
              "2  1030303  8726436_8726429  0.955404  softmax\n",
              "3  1030303  8726436_8726437  0.555172  softmax\n",
              "4  1030303  8726436_7156982  0.868546  softmax"
            ],
            "text/html": [
              "\n",
              "  <div id=\"df-6446eec5-b28e-4c93-94bd-dbe02b711861\">\n",
              "    <div class=\"colab-df-container\">\n",
              "      <div>\n",
              "<style scoped>\n",
              "    .dataframe tbody tr th:only-of-type {\n",
              "        vertical-align: middle;\n",
              "    }\n",
              "\n",
              "    .dataframe tbody tr th {\n",
              "        vertical-align: top;\n",
              "    }\n",
              "\n",
              "    .dataframe thead th {\n",
              "        text-align: right;\n",
              "    }\n",
              "</style>\n",
              "<table border=\"1\" class=\"dataframe\">\n",
              "  <thead>\n",
              "    <tr style=\"text-align: right;\">\n",
              "      <th></th>\n",
              "      <th>qid</th>\n",
              "      <th>docpair</th>\n",
              "      <th>prob</th>\n",
              "      <th>comment</th>\n",
              "    </tr>\n",
              "  </thead>\n",
              "  <tbody>\n",
              "    <tr>\n",
              "      <th>0</th>\n",
              "      <td>1030303</td>\n",
              "      <td>8726436_8726433</td>\n",
              "      <td>0.892408</td>\n",
              "      <td>softmax</td>\n",
              "    </tr>\n",
              "    <tr>\n",
              "      <th>1</th>\n",
              "      <td>1030303</td>\n",
              "      <td>8726436_8726435</td>\n",
              "      <td>0.480476</td>\n",
              "      <td>softmax</td>\n",
              "    </tr>\n",
              "    <tr>\n",
              "      <th>2</th>\n",
              "      <td>1030303</td>\n",
              "      <td>8726436_8726429</td>\n",
              "      <td>0.955404</td>\n",
              "      <td>softmax</td>\n",
              "    </tr>\n",
              "    <tr>\n",
              "      <th>3</th>\n",
              "      <td>1030303</td>\n",
              "      <td>8726436_8726437</td>\n",
              "      <td>0.555172</td>\n",
              "      <td>softmax</td>\n",
              "    </tr>\n",
              "    <tr>\n",
              "      <th>4</th>\n",
              "      <td>1030303</td>\n",
              "      <td>8726436_7156982</td>\n",
              "      <td>0.868546</td>\n",
              "      <td>softmax</td>\n",
              "    </tr>\n",
              "  </tbody>\n",
              "</table>\n",
              "</div>\n",
              "      <button class=\"colab-df-convert\" onclick=\"convertToInteractive('df-6446eec5-b28e-4c93-94bd-dbe02b711861')\"\n",
              "              title=\"Convert this dataframe to an interactive table.\"\n",
              "              style=\"display:none;\">\n",
              "        \n",
              "  <svg xmlns=\"http://www.w3.org/2000/svg\" height=\"24px\"viewBox=\"0 0 24 24\"\n",
              "       width=\"24px\">\n",
              "    <path d=\"M0 0h24v24H0V0z\" fill=\"none\"/>\n",
              "    <path d=\"M18.56 5.44l.94 2.06.94-2.06 2.06-.94-2.06-.94-.94-2.06-.94 2.06-2.06.94zm-11 1L8.5 8.5l.94-2.06 2.06-.94-2.06-.94L8.5 2.5l-.94 2.06-2.06.94zm10 10l.94 2.06.94-2.06 2.06-.94-2.06-.94-.94-2.06-.94 2.06-2.06.94z\"/><path d=\"M17.41 7.96l-1.37-1.37c-.4-.4-.92-.59-1.43-.59-.52 0-1.04.2-1.43.59L10.3 9.45l-7.72 7.72c-.78.78-.78 2.05 0 2.83L4 21.41c.39.39.9.59 1.41.59.51 0 1.02-.2 1.41-.59l7.78-7.78 2.81-2.81c.8-.78.8-2.07 0-2.86zM5.41 20L4 18.59l7.72-7.72 1.47 1.35L5.41 20z\"/>\n",
              "  </svg>\n",
              "      </button>\n",
              "      \n",
              "  <style>\n",
              "    .colab-df-container {\n",
              "      display:flex;\n",
              "      flex-wrap:wrap;\n",
              "      gap: 12px;\n",
              "    }\n",
              "\n",
              "    .colab-df-convert {\n",
              "      background-color: #E8F0FE;\n",
              "      border: none;\n",
              "      border-radius: 50%;\n",
              "      cursor: pointer;\n",
              "      display: none;\n",
              "      fill: #1967D2;\n",
              "      height: 32px;\n",
              "      padding: 0 0 0 0;\n",
              "      width: 32px;\n",
              "    }\n",
              "\n",
              "    .colab-df-convert:hover {\n",
              "      background-color: #E2EBFA;\n",
              "      box-shadow: 0px 1px 2px rgba(60, 64, 67, 0.3), 0px 1px 3px 1px rgba(60, 64, 67, 0.15);\n",
              "      fill: #174EA6;\n",
              "    }\n",
              "\n",
              "    [theme=dark] .colab-df-convert {\n",
              "      background-color: #3B4455;\n",
              "      fill: #D2E3FC;\n",
              "    }\n",
              "\n",
              "    [theme=dark] .colab-df-convert:hover {\n",
              "      background-color: #434B5C;\n",
              "      box-shadow: 0px 1px 3px 1px rgba(0, 0, 0, 0.15);\n",
              "      filter: drop-shadow(0px 1px 2px rgba(0, 0, 0, 0.3));\n",
              "      fill: #FFFFFF;\n",
              "    }\n",
              "  </style>\n",
              "\n",
              "      <script>\n",
              "        const buttonEl =\n",
              "          document.querySelector('#df-6446eec5-b28e-4c93-94bd-dbe02b711861 button.colab-df-convert');\n",
              "        buttonEl.style.display =\n",
              "          google.colab.kernel.accessAllowed ? 'block' : 'none';\n",
              "\n",
              "        async function convertToInteractive(key) {\n",
              "          const element = document.querySelector('#df-6446eec5-b28e-4c93-94bd-dbe02b711861');\n",
              "          const dataTable =\n",
              "            await google.colab.kernel.invokeFunction('convertToInteractive',\n",
              "                                                     [key], {});\n",
              "          if (!dataTable) return;\n",
              "\n",
              "          const docLinkHtml = 'Like what you see? Visit the ' +\n",
              "            '<a target=\"_blank\" href=https://colab.research.google.com/notebooks/data_table.ipynb>data table notebook</a>'\n",
              "            + ' to learn more about interactive tables.';\n",
              "          element.innerHTML = '';\n",
              "          dataTable['output_type'] = 'display_data';\n",
              "          await google.colab.output.renderOutput(dataTable, element);\n",
              "          const docLink = document.createElement('div');\n",
              "          docLink.innerHTML = docLinkHtml;\n",
              "          element.appendChild(docLink);\n",
              "        }\n",
              "      </script>\n",
              "    </div>\n",
              "  </div>\n",
              "  "
            ]
          },
          "metadata": {},
          "execution_count": 163
        }
      ]
    },
    {
      "cell_type": "code",
      "source": [
        "pairwise_df_qid = pairwise_df[pairwise_df['qid'] == qid_np[query_index]] #change the query id here\n",
        "pairwise_df_lim= pairwise_df_qid[['docpair','prob']]\n",
        "docpair_np = np.array(pairwise_df_lim['docpair'])\n",
        "prob_np = np.array(pairwise_df_lim['prob'])\n",
        "\n",
        "dict_docpair_prob = dict(zip(docpair_np,prob_np))\n",
        "print(len(dict_docpair_prob))\n",
        "print(docpair_np[:2])\n",
        "print(type(prob_np[:2]))"
      ],
      "metadata": {
        "colab": {
          "base_uri": "https://localhost:8080/"
        },
        "id": "uxURXB8JTdZA",
        "outputId": "6198cf2d-061f-41bd-aa2e-230d4e36f0d4"
      },
      "execution_count": 164,
      "outputs": [
        {
          "output_type": "stream",
          "name": "stdout",
          "text": [
            "2450\n",
            "['7941125_6480421' '7941125_405282']\n",
            "<class 'numpy.ndarray'>\n"
          ]
        }
      ]
    },
    {
      "cell_type": "code",
      "source": [
        "docs_order_np = np.array(res_df_qid['docid'])\n",
        "docs_order_np\n",
        "doc_pair_array = np.zeros(shape=(50,50))\n",
        "for i in range(50):\n",
        "  for j in range(50):\n",
        "    if (i !=j):\n",
        "      doc_pair_temp = str(docs_order_np[i]) +\"_\"+ str(docs_order_np[j])\n",
        "      index_temp = np.where(docpair_np == doc_pair_temp)    \n",
        "      prob_Pij_temp = prob_np[index_temp]\n",
        "      doc_pair_array[i,j] = prob_Pij_temp \n"
      ],
      "metadata": {
        "id": "j9upSe7DRrqI"
      },
      "execution_count": 165,
      "outputs": []
    },
    {
      "cell_type": "code",
      "source": [
        "matrix2= doc_pair_array\n",
        "df = pd.DataFrame(matrix2,\n",
        "                  columns=[\"$D_1$\",\"$D_2$\",\"$D_3$\",\"$D_4$\",\"$D_5$\",\"$D_6$\",\"$D_7$\",\"$D_8$\",\"$D_9$\",\"$D_{10}$\",\"$D_{11}$\",\"$D_{12}$\",\"$D_{13}$\",\"$D_{14}$\",\"$D_{15}$\",\"$D_{16}$\",\"$D_{17}$\",\"$D_{18}$\",\"$D_{19}$\",\"$D_{20}$\",\"$D_{21}$\",\"$D_{22}$\",\"$D_{23}$\",\"$D_{24}$\",\"$D_{25}$\",\"$D_{26}$\",\"$D_{27}$\",\"$D_{28}$\",\"$D_{29}$\",\"$D_{30}$\",\"$D_{31}$\",\"$D_{32}$\",\"$D_{33}$\",\"$D_{34}$\",\"$D_{35}$\",\"$D_{36}$\",\"$D_{37}$\",\"$D_{38}$\",\"$D_{39}$\",\"$D_{40}$\",\"$D_{41}$\",\"$D_{42}$\",\"$D_{43}$\",\"$D_{44}$\",\"$D_{45}$\",\"$D_{46}$\",\"$D_{47}$\",\"$D_{48}$\",\"$D_{49}$\",\"$D_{50}$\"],\n",
        "                  index=[\"$D_1$\",\"$D_2$\",\"$D_3$\",\"$D_4$\",\"$D_5$\",\"$D_6$\",\"$D_7$\",\"$D_8$\",\"$D_9$\",\"$D_{10}$\",\"$D_{11}$\",\"$D_{12}$\",\"$D_{13}$\",\"$D_{14}$\",\"$D_{15}$\",\"$D_{16}$\",\"$D_{17}$\",\"$D_{18}$\",\"$D_{19}$\",\"$D_{20}$\",\"$D_{21}$\",\"$D_{22}$\",\"$D_{23}$\",\"$D_{24}$\",\"$D_{25}$\",\"$D_{26}$\",\"$D_{27}$\",\"$D_{28}$\",\"$D_{29}$\",\"$D_{30}$\",\"$D_{31}$\",\"$D_{32}$\",\"$D_{33}$\",\"$D_{34}$\",\"$D_{35}$\",\"$D_{36}$\",\"$D_{37}$\",\"$D_{38}$\",\"$D_{39}$\",\"$D_{40}$\",\"$D_{41}$\",\"$D_{42}$\",\"$D_{43}$\",\"$D_{44}$\",\"$D_{45}$\",\"$D_{46}$\",\"$D_{47}$\",\"$D_{48}$\",\"$D_{49}$\",\"$D_{50}$\"])\n",
        "\n",
        "# Draw the heatmap with the mask\n",
        "sns.heatmap(df, mask=None, square=True, cmap=\"gray\")\n",
        "plt.yticks(rotation=0) \n",
        "plt.savefig('heatmap2.pdf')\n"
      ],
      "metadata": {
        "colab": {
          "base_uri": "https://localhost:8080/",
          "height": 278
        },
        "id": "zHqvpH9x3EEJ",
        "outputId": "5339b157-2c8f-4766-fa9e-ee277e18cf23"
      },
      "execution_count": 166,
      "outputs": [
        {
          "output_type": "display_data",
          "data": {
            "text/plain": [
              "<Figure size 432x288 with 2 Axes>"
            ],
            "image/png": "[encoded data removed]"
          },
          "metadata": {
            "needs_background": "light"
          }
        }
      ]
    },
    {
      "cell_type": "code",
      "source": [],
      "metadata": {
        "id": "eQN5ecMmMfix"
      },
      "execution_count": null,
      "outputs": []
    }
  ]
}