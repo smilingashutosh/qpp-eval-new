{
  "nbformat": 4,
  "nbformat_minor": 0,
  "metadata": {
    "colab": {
      "provenance": [],
      "collapsed_sections": [],
      "authorship_tag": "ABX9TyM29DT09CG4oHGzx7zuu0hQ",
      "include_colab_link": true
    },
    "kernelspec": {
      "name": "python3",
      "display_name": "Python 3"
    },
    "language_info": {
      "name": "python"
    }
  },
  "cells": [
    {
      "cell_type": "markdown",
      "metadata": {
        "id": "view-in-github",
        "colab_type": "text"
      },
      "source": [
        "<a href=\"https://colab.research.google.com/github/smilingashutosh/qpp-eval-new/blob/main/duot5/matrix_prob.ipynb\" target=\"_parent\"><img src=\"https://colab.research.google.com/assets/colab-badge.svg\" alt=\"Open In Colab\"/></a>"
      ]
    },
    {
      "cell_type": "code",
      "execution_count": 88,
      "metadata": {
        "id": "JjJpUC_c0N7s"
      },
      "outputs": [],
      "source": [
        "# library\n",
        "import seaborn as sns\n",
        "import pandas as pd\n",
        "import numpy as np\n",
        "import matplotlib.pyplot as plt"
      ]
    },
    {
      "cell_type": "markdown",
      "source": [
        "## Importing the  Res file"
      ],
      "metadata": {
        "id": "emf2UClfG8O2"
      }
    },
    {
      "cell_type": "code",
      "source": [
        "columns=['qid','Q0','docid','rank','score','comment']\n",
        "res_df=pd.read_csv('https://raw.githubusercontent.com/smilingashutosh/qpp-eval-new/main/res_files/02bm25.1000.mt5.50/res.bm25.1000.monot5.50.mmnorm',names=columns,sep='\\t')\n",
        "res_df.head(5)"
      ],
      "metadata": {
        "colab": {
          "base_uri": "https://localhost:8080/",
          "height": 206
        },
        "id": "NMC74hMf9cQU",
        "outputId": "92c0b358-26f8-4ddf-ab6e-6a03cd621422"
      },
      "execution_count": 89,
      "outputs": [
        {
          "output_type": "execute_result",
          "data": {
            "text/plain": [
              "     qid  Q0    docid  rank     score    comment\n",
              "0  19335  Q0  8412682     0  1.000000  pyterrier\n",
              "1  19335  Q0  3045567     1  0.988172  pyterrier\n",
              "2  19335  Q0  8412683     2  0.978426  pyterrier\n",
              "3  19335  Q0  6452949     3  0.976848  pyterrier\n",
              "4  19335  Q0   342431     4  0.960322  pyterrier"
            ],
            "text/html": [
              "\n",
              "  <div id=\"df-806239ef-6b5c-4fab-87ec-6bc4bf9e725d\">\n",
              "    <div class=\"colab-df-container\">\n",
              "      <div>\n",
              "<style scoped>\n",
              "    .dataframe tbody tr th:only-of-type {\n",
              "        vertical-align: middle;\n",
              "    }\n",
              "\n",
              "    .dataframe tbody tr th {\n",
              "        vertical-align: top;\n",
              "    }\n",
              "\n",
              "    .dataframe thead th {\n",
              "        text-align: right;\n",
              "    }\n",
              "</style>\n",
              "<table border=\"1\" class=\"dataframe\">\n",
              "  <thead>\n",
              "    <tr style=\"text-align: right;\">\n",
              "      <th></th>\n",
              "      <th>qid</th>\n",
              "      <th>Q0</th>\n",
              "      <th>docid</th>\n",
              "      <th>rank</th>\n",
              "      <th>score</th>\n",
              "      <th>comment</th>\n",
              "    </tr>\n",
              "  </thead>\n",
              "  <tbody>\n",
              "    <tr>\n",
              "      <th>0</th>\n",
              "      <td>19335</td>\n",
              "      <td>Q0</td>\n",
              "      <td>8412682</td>\n",
              "      <td>0</td>\n",
              "      <td>1.000000</td>\n",
              "      <td>pyterrier</td>\n",
              "    </tr>\n",
              "    <tr>\n",
              "      <th>1</th>\n",
              "      <td>19335</td>\n",
              "      <td>Q0</td>\n",
              "      <td>3045567</td>\n",
              "      <td>1</td>\n",
              "      <td>0.988172</td>\n",
              "      <td>pyterrier</td>\n",
              "    </tr>\n",
              "    <tr>\n",
              "      <th>2</th>\n",
              "      <td>19335</td>\n",
              "      <td>Q0</td>\n",
              "      <td>8412683</td>\n",
              "      <td>2</td>\n",
              "      <td>0.978426</td>\n",
              "      <td>pyterrier</td>\n",
              "    </tr>\n",
              "    <tr>\n",
              "      <th>3</th>\n",
              "      <td>19335</td>\n",
              "      <td>Q0</td>\n",
              "      <td>6452949</td>\n",
              "      <td>3</td>\n",
              "      <td>0.976848</td>\n",
              "      <td>pyterrier</td>\n",
              "    </tr>\n",
              "    <tr>\n",
              "      <th>4</th>\n",
              "      <td>19335</td>\n",
              "      <td>Q0</td>\n",
              "      <td>342431</td>\n",
              "      <td>4</td>\n",
              "      <td>0.960322</td>\n",
              "      <td>pyterrier</td>\n",
              "    </tr>\n",
              "  </tbody>\n",
              "</table>\n",
              "</div>\n",
              "      <button class=\"colab-df-convert\" onclick=\"convertToInteractive('df-806239ef-6b5c-4fab-87ec-6bc4bf9e725d')\"\n",
              "              title=\"Convert this dataframe to an interactive table.\"\n",
              "              style=\"display:none;\">\n",
              "        \n",
              "  <svg xmlns=\"http://www.w3.org/2000/svg\" height=\"24px\"viewBox=\"0 0 24 24\"\n",
              "       width=\"24px\">\n",
              "    <path d=\"M0 0h24v24H0V0z\" fill=\"none\"/>\n",
              "    <path d=\"M18.56 5.44l.94 2.06.94-2.06 2.06-.94-2.06-.94-.94-2.06-.94 2.06-2.06.94zm-11 1L8.5 8.5l.94-2.06 2.06-.94-2.06-.94L8.5 2.5l-.94 2.06-2.06.94zm10 10l.94 2.06.94-2.06 2.06-.94-2.06-.94-.94-2.06-.94 2.06-2.06.94z\"/><path d=\"M17.41 7.96l-1.37-1.37c-.4-.4-.92-.59-1.43-.59-.52 0-1.04.2-1.43.59L10.3 9.45l-7.72 7.72c-.78.78-.78 2.05 0 2.83L4 21.41c.39.39.9.59 1.41.59.51 0 1.02-.2 1.41-.59l7.78-7.78 2.81-2.81c.8-.78.8-2.07 0-2.86zM5.41 20L4 18.59l7.72-7.72 1.47 1.35L5.41 20z\"/>\n",
              "  </svg>\n",
              "      </button>\n",
              "      \n",
              "  <style>\n",
              "    .colab-df-container {\n",
              "      display:flex;\n",
              "      flex-wrap:wrap;\n",
              "      gap: 12px;\n",
              "    }\n",
              "\n",
              "    .colab-df-convert {\n",
              "      background-color: #E8F0FE;\n",
              "      border: none;\n",
              "      border-radius: 50%;\n",
              "      cursor: pointer;\n",
              "      display: none;\n",
              "      fill: #1967D2;\n",
              "      height: 32px;\n",
              "      padding: 0 0 0 0;\n",
              "      width: 32px;\n",
              "    }\n",
              "\n",
              "    .colab-df-convert:hover {\n",
              "      background-color: #E2EBFA;\n",
              "      box-shadow: 0px 1px 2px rgba(60, 64, 67, 0.3), 0px 1px 3px 1px rgba(60, 64, 67, 0.15);\n",
              "      fill: #174EA6;\n",
              "    }\n",
              "\n",
              "    [theme=dark] .colab-df-convert {\n",
              "      background-color: #3B4455;\n",
              "      fill: #D2E3FC;\n",
              "    }\n",
              "\n",
              "    [theme=dark] .colab-df-convert:hover {\n",
              "      background-color: #434B5C;\n",
              "      box-shadow: 0px 1px 3px 1px rgba(0, 0, 0, 0.15);\n",
              "      filter: drop-shadow(0px 1px 2px rgba(0, 0, 0, 0.3));\n",
              "      fill: #FFFFFF;\n",
              "    }\n",
              "  </style>\n",
              "\n",
              "      <script>\n",
              "        const buttonEl =\n",
              "          document.querySelector('#df-806239ef-6b5c-4fab-87ec-6bc4bf9e725d button.colab-df-convert');\n",
              "        buttonEl.style.display =\n",
              "          google.colab.kernel.accessAllowed ? 'block' : 'none';\n",
              "\n",
              "        async function convertToInteractive(key) {\n",
              "          const element = document.querySelector('#df-806239ef-6b5c-4fab-87ec-6bc4bf9e725d');\n",
              "          const dataTable =\n",
              "            await google.colab.kernel.invokeFunction('convertToInteractive',\n",
              "                                                     [key], {});\n",
              "          if (!dataTable) return;\n",
              "\n",
              "          const docLinkHtml = 'Like what you see? Visit the ' +\n",
              "            '<a target=\"_blank\" href=https://colab.research.google.com/notebooks/data_table.ipynb>data table notebook</a>'\n",
              "            + ' to learn more about interactive tables.';\n",
              "          element.innerHTML = '';\n",
              "          dataTable['output_type'] = 'display_data';\n",
              "          await google.colab.output.renderOutput(dataTable, element);\n",
              "          const docLink = document.createElement('div');\n",
              "          docLink.innerHTML = docLinkHtml;\n",
              "          element.appendChild(docLink);\n",
              "        }\n",
              "      </script>\n",
              "    </div>\n",
              "  </div>\n",
              "  "
            ]
          },
          "metadata": {},
          "execution_count": 89
        }
      ]
    },
    {
      "cell_type": "markdown",
      "source": [
        "## Finding unique query ids and selecting one"
      ],
      "metadata": {
        "id": "hhG87Zg5TMvA"
      }
    },
    {
      "cell_type": "code",
      "source": [
        "qid_np = res_df['qid'].unique()\n",
        "qid_np[1]"
      ],
      "metadata": {
        "colab": {
          "base_uri": "https://localhost:8080/"
        },
        "id": "cH92DU6PTTl7",
        "outputId": "017a619f-f1ac-4804-fdba-2c78bf0e3512"
      },
      "execution_count": 90,
      "outputs": [
        {
          "output_type": "execute_result",
          "data": {
            "text/plain": [
              "23849"
            ]
          },
          "metadata": {},
          "execution_count": 90
        }
      ]
    },
    {
      "cell_type": "code",
      "source": [
        "res_df_qid = res_df[res_df['qid'] == qid_np[43]].sort_values(by='rank',ascending=True)\n",
        "res_df_qid = res_df_qid.reset_index(drop=True)\n",
        "res_df_qid.head(2)"
      ],
      "metadata": {
        "colab": {
          "base_uri": "https://localhost:8080/",
          "height": 112
        },
        "id": "F2FSf61fTVds",
        "outputId": "82e94de9-afb7-4602-da34-c955d8959657"
      },
      "execution_count": 91,
      "outputs": [
        {
          "output_type": "execute_result",
          "data": {
            "text/plain": [
              "      qid  Q0    docid  rank    score    comment\n",
              "0  640502  Q0  6985038     0  1.00000  pyterrier\n",
              "1  640502  Q0   598202     1  0.99072  pyterrier"
            ],
            "text/html": [
              "\n",
              "  <div id=\"df-a25cf363-480e-42c8-ad04-7bd27132f079\">\n",
              "    <div class=\"colab-df-container\">\n",
              "      <div>\n",
              "<style scoped>\n",
              "    .dataframe tbody tr th:only-of-type {\n",
              "        vertical-align: middle;\n",
              "    }\n",
              "\n",
              "    .dataframe tbody tr th {\n",
              "        vertical-align: top;\n",
              "    }\n",
              "\n",
              "    .dataframe thead th {\n",
              "        text-align: right;\n",
              "    }\n",
              "</style>\n",
              "<table border=\"1\" class=\"dataframe\">\n",
              "  <thead>\n",
              "    <tr style=\"text-align: right;\">\n",
              "      <th></th>\n",
              "      <th>qid</th>\n",
              "      <th>Q0</th>\n",
              "      <th>docid</th>\n",
              "      <th>rank</th>\n",
              "      <th>score</th>\n",
              "      <th>comment</th>\n",
              "    </tr>\n",
              "  </thead>\n",
              "  <tbody>\n",
              "    <tr>\n",
              "      <th>0</th>\n",
              "      <td>640502</td>\n",
              "      <td>Q0</td>\n",
              "      <td>6985038</td>\n",
              "      <td>0</td>\n",
              "      <td>1.00000</td>\n",
              "      <td>pyterrier</td>\n",
              "    </tr>\n",
              "    <tr>\n",
              "      <th>1</th>\n",
              "      <td>640502</td>\n",
              "      <td>Q0</td>\n",
              "      <td>598202</td>\n",
              "      <td>1</td>\n",
              "      <td>0.99072</td>\n",
              "      <td>pyterrier</td>\n",
              "    </tr>\n",
              "  </tbody>\n",
              "</table>\n",
              "</div>\n",
              "      <button class=\"colab-df-convert\" onclick=\"convertToInteractive('df-a25cf363-480e-42c8-ad04-7bd27132f079')\"\n",
              "              title=\"Convert this dataframe to an interactive table.\"\n",
              "              style=\"display:none;\">\n",
              "        \n",
              "  <svg xmlns=\"http://www.w3.org/2000/svg\" height=\"24px\"viewBox=\"0 0 24 24\"\n",
              "       width=\"24px\">\n",
              "    <path d=\"M0 0h24v24H0V0z\" fill=\"none\"/>\n",
              "    <path d=\"M18.56 5.44l.94 2.06.94-2.06 2.06-.94-2.06-.94-.94-2.06-.94 2.06-2.06.94zm-11 1L8.5 8.5l.94-2.06 2.06-.94-2.06-.94L8.5 2.5l-.94 2.06-2.06.94zm10 10l.94 2.06.94-2.06 2.06-.94-2.06-.94-.94-2.06-.94 2.06-2.06.94z\"/><path d=\"M17.41 7.96l-1.37-1.37c-.4-.4-.92-.59-1.43-.59-.52 0-1.04.2-1.43.59L10.3 9.45l-7.72 7.72c-.78.78-.78 2.05 0 2.83L4 21.41c.39.39.9.59 1.41.59.51 0 1.02-.2 1.41-.59l7.78-7.78 2.81-2.81c.8-.78.8-2.07 0-2.86zM5.41 20L4 18.59l7.72-7.72 1.47 1.35L5.41 20z\"/>\n",
              "  </svg>\n",
              "      </button>\n",
              "      \n",
              "  <style>\n",
              "    .colab-df-container {\n",
              "      display:flex;\n",
              "      flex-wrap:wrap;\n",
              "      gap: 12px;\n",
              "    }\n",
              "\n",
              "    .colab-df-convert {\n",
              "      background-color: #E8F0FE;\n",
              "      border: none;\n",
              "      border-radius: 50%;\n",
              "      cursor: pointer;\n",
              "      display: none;\n",
              "      fill: #1967D2;\n",
              "      height: 32px;\n",
              "      padding: 0 0 0 0;\n",
              "      width: 32px;\n",
              "    }\n",
              "\n",
              "    .colab-df-convert:hover {\n",
              "      background-color: #E2EBFA;\n",
              "      box-shadow: 0px 1px 2px rgba(60, 64, 67, 0.3), 0px 1px 3px 1px rgba(60, 64, 67, 0.15);\n",
              "      fill: #174EA6;\n",
              "    }\n",
              "\n",
              "    [theme=dark] .colab-df-convert {\n",
              "      background-color: #3B4455;\n",
              "      fill: #D2E3FC;\n",
              "    }\n",
              "\n",
              "    [theme=dark] .colab-df-convert:hover {\n",
              "      background-color: #434B5C;\n",
              "      box-shadow: 0px 1px 3px 1px rgba(0, 0, 0, 0.15);\n",
              "      filter: drop-shadow(0px 1px 2px rgba(0, 0, 0, 0.3));\n",
              "      fill: #FFFFFF;\n",
              "    }\n",
              "  </style>\n",
              "\n",
              "      <script>\n",
              "        const buttonEl =\n",
              "          document.querySelector('#df-a25cf363-480e-42c8-ad04-7bd27132f079 button.colab-df-convert');\n",
              "        buttonEl.style.display =\n",
              "          google.colab.kernel.accessAllowed ? 'block' : 'none';\n",
              "\n",
              "        async function convertToInteractive(key) {\n",
              "          const element = document.querySelector('#df-a25cf363-480e-42c8-ad04-7bd27132f079');\n",
              "          const dataTable =\n",
              "            await google.colab.kernel.invokeFunction('convertToInteractive',\n",
              "                                                     [key], {});\n",
              "          if (!dataTable) return;\n",
              "\n",
              "          const docLinkHtml = 'Like what you see? Visit the ' +\n",
              "            '<a target=\"_blank\" href=https://colab.research.google.com/notebooks/data_table.ipynb>data table notebook</a>'\n",
              "            + ' to learn more about interactive tables.';\n",
              "          element.innerHTML = '';\n",
              "          dataTable['output_type'] = 'display_data';\n",
              "          await google.colab.output.renderOutput(dataTable, element);\n",
              "          const docLink = document.createElement('div');\n",
              "          docLink.innerHTML = docLinkHtml;\n",
              "          element.appendChild(docLink);\n",
              "        }\n",
              "      </script>\n",
              "    </div>\n",
              "  </div>\n",
              "  "
            ]
          },
          "metadata": {},
          "execution_count": 91
        }
      ]
    },
    {
      "cell_type": "markdown",
      "source": [
        "## Importing the pairwise probability between Doc_i and Doc_J"
      ],
      "metadata": {
        "id": "Gm6GopP-HJb-"
      }
    },
    {
      "cell_type": "code",
      "source": [
        "paircols = ['qid','docpair','prob','comment']\n",
        "pairwise_df=pd.read_csv('https://raw.githubusercontent.com/smilingashutosh/qpp-eval-new/main/res_files/02bm25.1000.mt5.50/duoT5.50.score.softmax.pairwise.doc.tsv',names=paircols,sep='\\t')\n",
        "pairwise_df.head(5)"
      ],
      "metadata": {
        "colab": {
          "base_uri": "https://localhost:8080/",
          "height": 206
        },
        "id": "l8xIhsUs-Ehu",
        "outputId": "3f4e326b-69fb-4620-d5ae-029c41a371a2"
      },
      "execution_count": 92,
      "outputs": [
        {
          "output_type": "execute_result",
          "data": {
            "text/plain": [
              "       qid          docpair      prob  comment\n",
              "0  1030303  8726436_8726433  0.892408  softmax\n",
              "1  1030303  8726436_8726435  0.480476  softmax\n",
              "2  1030303  8726436_8726429  0.955404  softmax\n",
              "3  1030303  8726436_8726437  0.555172  softmax\n",
              "4  1030303  8726436_7156982  0.868546  softmax"
            ],
            "text/html": [
              "\n",
              "  <div id=\"df-4769ee7e-93e0-4011-aa74-90478142a6a8\">\n",
              "    <div class=\"colab-df-container\">\n",
              "      <div>\n",
              "<style scoped>\n",
              "    .dataframe tbody tr th:only-of-type {\n",
              "        vertical-align: middle;\n",
              "    }\n",
              "\n",
              "    .dataframe tbody tr th {\n",
              "        vertical-align: top;\n",
              "    }\n",
              "\n",
              "    .dataframe thead th {\n",
              "        text-align: right;\n",
              "    }\n",
              "</style>\n",
              "<table border=\"1\" class=\"dataframe\">\n",
              "  <thead>\n",
              "    <tr style=\"text-align: right;\">\n",
              "      <th></th>\n",
              "      <th>qid</th>\n",
              "      <th>docpair</th>\n",
              "      <th>prob</th>\n",
              "      <th>comment</th>\n",
              "    </tr>\n",
              "  </thead>\n",
              "  <tbody>\n",
              "    <tr>\n",
              "      <th>0</th>\n",
              "      <td>1030303</td>\n",
              "      <td>8726436_8726433</td>\n",
              "      <td>0.892408</td>\n",
              "      <td>softmax</td>\n",
              "    </tr>\n",
              "    <tr>\n",
              "      <th>1</th>\n",
              "      <td>1030303</td>\n",
              "      <td>8726436_8726435</td>\n",
              "      <td>0.480476</td>\n",
              "      <td>softmax</td>\n",
              "    </tr>\n",
              "    <tr>\n",
              "      <th>2</th>\n",
              "      <td>1030303</td>\n",
              "      <td>8726436_8726429</td>\n",
              "      <td>0.955404</td>\n",
              "      <td>softmax</td>\n",
              "    </tr>\n",
              "    <tr>\n",
              "      <th>3</th>\n",
              "      <td>1030303</td>\n",
              "      <td>8726436_8726437</td>\n",
              "      <td>0.555172</td>\n",
              "      <td>softmax</td>\n",
              "    </tr>\n",
              "    <tr>\n",
              "      <th>4</th>\n",
              "      <td>1030303</td>\n",
              "      <td>8726436_7156982</td>\n",
              "      <td>0.868546</td>\n",
              "      <td>softmax</td>\n",
              "    </tr>\n",
              "  </tbody>\n",
              "</table>\n",
              "</div>\n",
              "      <button class=\"colab-df-convert\" onclick=\"convertToInteractive('df-4769ee7e-93e0-4011-aa74-90478142a6a8')\"\n",
              "              title=\"Convert this dataframe to an interactive table.\"\n",
              "              style=\"display:none;\">\n",
              "        \n",
              "  <svg xmlns=\"http://www.w3.org/2000/svg\" height=\"24px\"viewBox=\"0 0 24 24\"\n",
              "       width=\"24px\">\n",
              "    <path d=\"M0 0h24v24H0V0z\" fill=\"none\"/>\n",
              "    <path d=\"M18.56 5.44l.94 2.06.94-2.06 2.06-.94-2.06-.94-.94-2.06-.94 2.06-2.06.94zm-11 1L8.5 8.5l.94-2.06 2.06-.94-2.06-.94L8.5 2.5l-.94 2.06-2.06.94zm10 10l.94 2.06.94-2.06 2.06-.94-2.06-.94-.94-2.06-.94 2.06-2.06.94z\"/><path d=\"M17.41 7.96l-1.37-1.37c-.4-.4-.92-.59-1.43-.59-.52 0-1.04.2-1.43.59L10.3 9.45l-7.72 7.72c-.78.78-.78 2.05 0 2.83L4 21.41c.39.39.9.59 1.41.59.51 0 1.02-.2 1.41-.59l7.78-7.78 2.81-2.81c.8-.78.8-2.07 0-2.86zM5.41 20L4 18.59l7.72-7.72 1.47 1.35L5.41 20z\"/>\n",
              "  </svg>\n",
              "      </button>\n",
              "      \n",
              "  <style>\n",
              "    .colab-df-container {\n",
              "      display:flex;\n",
              "      flex-wrap:wrap;\n",
              "      gap: 12px;\n",
              "    }\n",
              "\n",
              "    .colab-df-convert {\n",
              "      background-color: #E8F0FE;\n",
              "      border: none;\n",
              "      border-radius: 50%;\n",
              "      cursor: pointer;\n",
              "      display: none;\n",
              "      fill: #1967D2;\n",
              "      height: 32px;\n",
              "      padding: 0 0 0 0;\n",
              "      width: 32px;\n",
              "    }\n",
              "\n",
              "    .colab-df-convert:hover {\n",
              "      background-color: #E2EBFA;\n",
              "      box-shadow: 0px 1px 2px rgba(60, 64, 67, 0.3), 0px 1px 3px 1px rgba(60, 64, 67, 0.15);\n",
              "      fill: #174EA6;\n",
              "    }\n",
              "\n",
              "    [theme=dark] .colab-df-convert {\n",
              "      background-color: #3B4455;\n",
              "      fill: #D2E3FC;\n",
              "    }\n",
              "\n",
              "    [theme=dark] .colab-df-convert:hover {\n",
              "      background-color: #434B5C;\n",
              "      box-shadow: 0px 1px 3px 1px rgba(0, 0, 0, 0.15);\n",
              "      filter: drop-shadow(0px 1px 2px rgba(0, 0, 0, 0.3));\n",
              "      fill: #FFFFFF;\n",
              "    }\n",
              "  </style>\n",
              "\n",
              "      <script>\n",
              "        const buttonEl =\n",
              "          document.querySelector('#df-4769ee7e-93e0-4011-aa74-90478142a6a8 button.colab-df-convert');\n",
              "        buttonEl.style.display =\n",
              "          google.colab.kernel.accessAllowed ? 'block' : 'none';\n",
              "\n",
              "        async function convertToInteractive(key) {\n",
              "          const element = document.querySelector('#df-4769ee7e-93e0-4011-aa74-90478142a6a8');\n",
              "          const dataTable =\n",
              "            await google.colab.kernel.invokeFunction('convertToInteractive',\n",
              "                                                     [key], {});\n",
              "          if (!dataTable) return;\n",
              "\n",
              "          const docLinkHtml = 'Like what you see? Visit the ' +\n",
              "            '<a target=\"_blank\" href=https://colab.research.google.com/notebooks/data_table.ipynb>data table notebook</a>'\n",
              "            + ' to learn more about interactive tables.';\n",
              "          element.innerHTML = '';\n",
              "          dataTable['output_type'] = 'display_data';\n",
              "          await google.colab.output.renderOutput(dataTable, element);\n",
              "          const docLink = document.createElement('div');\n",
              "          docLink.innerHTML = docLinkHtml;\n",
              "          element.appendChild(docLink);\n",
              "        }\n",
              "      </script>\n",
              "    </div>\n",
              "  </div>\n",
              "  "
            ]
          },
          "metadata": {},
          "execution_count": 92
        }
      ]
    },
    {
      "cell_type": "code",
      "source": [
        "pairwise_df_qid = pairwise_df[pairwise_df['qid'] == qid_np[43]]\n",
        "pairwise_df_lim= pairwise_df_qid[['docpair','prob']]\n",
        "pairwise_dict=pairwise_df_lim.to_dict('records')\n",
        "print(pairwise_dict[1])\n",
        "print(type(pairwise_dict))\n",
        "print(type(pairwise_dict[1]))\n",
        "print(len(pairwise_dict))"
      ],
      "metadata": {
        "colab": {
          "base_uri": "https://localhost:8080/"
        },
        "id": "uxURXB8JTdZA",
        "outputId": "510afc2f-089f-41ae-fcf2-3bf494c990b5"
      },
      "execution_count": 93,
      "outputs": [
        {
          "output_type": "stream",
          "name": "stdout",
          "text": [
            "{'docpair': '6730887_598202', 'prob': 0.7767563462}\n",
            "<class 'list'>\n",
            "<class 'dict'>\n",
            "2450\n"
          ]
        }
      ]
    },
    {
      "cell_type": "code",
      "source": [
        "docpair_np = np.array(pairwise_df_lim['docpair'])\n",
        "prob_np = np.array(pairwise_df_lim['prob'])\n",
        "\n",
        "dict_docpair_prob = dict(zip(docpair_np,prob_np))\n",
        "print(len(dict_docpair_prob))\n",
        "print(docpair_np[:2])\n",
        "print(type(prob_np[:2]))"
      ],
      "metadata": {
        "colab": {
          "base_uri": "https://localhost:8080/"
        },
        "id": "fWSfWOf4TnvN",
        "outputId": "0e072d1c-d737-40ea-f57a-688a9378b9f2"
      },
      "execution_count": 94,
      "outputs": [
        {
          "output_type": "stream",
          "name": "stdout",
          "text": [
            "2450\n",
            "['6730887_6985038' '6730887_598202']\n",
            "<class 'numpy.ndarray'>\n"
          ]
        }
      ]
    },
    {
      "cell_type": "code",
      "source": [
        "# np.where(docpair_np == '1158886_34696')\n",
        "# print(type(np.where(docpair_np == '1158886_3469615')))\n",
        "# prob_np[np.where(docpair_np == '1158886_3469615')]\n",
        "# doc_pair_array = np.zeros(shape=(50,50))\n",
        "# print(doc_pair_array[0,0])\n",
        "# doc_pair_array[0,0] = 0.2\n",
        "# print(doc_pair_array[0,0])"
      ],
      "metadata": {
        "colab": {
          "base_uri": "https://localhost:8080/"
        },
        "id": "VJIhk3GpvEGI",
        "outputId": "05d036fb-88c5-4b3d-c106-2d1f312dd262"
      },
      "execution_count": 69,
      "outputs": [
        {
          "output_type": "execute_result",
          "data": {
            "text/plain": [
              "(array([], dtype=int64),)"
            ]
          },
          "metadata": {},
          "execution_count": 69
        }
      ]
    },
    {
      "cell_type": "code",
      "source": [
        "docs_order_np = np.array(res_df_qid['docid'])\n",
        "docs_order_np\n",
        "doc_pair_array = np.zeros(shape=(50,50))\n",
        "for i in range(50):\n",
        "  for j in range(50):\n",
        "    if (i !=j):\n",
        "      doc_pair_temp = str(docs_order_np[i]) +\"_\"+ str(docs_order_np[j])\n",
        "      # index_temp = np.searchsorted(docpair_np,doc_pair_temp)  \n",
        "      index_temp = np.where(docpair_np == doc_pair_temp)    \n",
        "      prob_Pij_temp = prob_np[index_temp]\n",
        "      # print(doc_pair_temp)\n",
        "      # print(index_temp)\n",
        "      # print(prob_Pij_temp)\n",
        "      # np.insert(doc_pair_array,(i,j),prob_Pij_temp)\n",
        "      doc_pair_array[i,j] = prob_Pij_temp \n",
        "\n",
        "print(doc_pair_array[1,1])"
      ],
      "metadata": {
        "colab": {
          "base_uri": "https://localhost:8080/"
        },
        "id": "j9upSe7DRrqI",
        "outputId": "aeafbd1b-bfd1-4e9f-bac2-fd4ec9182fc3"
      },
      "execution_count": 95,
      "outputs": [
        {
          "output_type": "stream",
          "name": "stdout",
          "text": [
            "0.0\n"
          ]
        }
      ]
    },
    {
      "cell_type": "code",
      "source": [
        "print(doc_pair_array[49])"
      ],
      "metadata": {
        "colab": {
          "base_uri": "https://localhost:8080/"
        },
        "id": "0srCq1KIw3jU",
        "outputId": "813171a1-93f1-4ebd-90be-c97fc4790a45"
      },
      "execution_count": 96,
      "outputs": [
        {
          "output_type": "stream",
          "name": "stdout",
          "text": [
            "[0.54261369 0.5548799  0.44907087 0.57107007 0.48481646 0.63346457\n",
            " 0.46775889 0.61419922 0.79475975 0.68065226 0.77635348 0.73852223\n",
            " 0.83351988 0.77554816 0.71417123 0.57833546 0.65071559 0.64398295\n",
            " 0.80259377 0.72875106 0.72353596 0.79086083 0.65030533 0.77963018\n",
            " 0.85622847 0.88218182 0.90487963 0.88286805 0.97757214 0.81938052\n",
            " 0.79350626 0.84656119 0.61873221 0.78621078 0.88874441 0.96092731\n",
            " 0.91056597 0.76600456 0.86997122 0.91190481 0.8672846  0.76389283\n",
            " 0.78437382 0.85663354 0.84251344 0.83814704 0.67875826 0.96229917\n",
            " 0.87731576 0.        ]\n"
          ]
        }
      ]
    },
    {
      "cell_type": "code",
      "source": [
        "print(doc_pair_array)"
      ],
      "metadata": {
        "colab": {
          "base_uri": "https://localhost:8080/"
        },
        "id": "mhNwMLLl2plZ",
        "outputId": "f72f6004-e9d5-45fe-8636-8718f263653c"
      },
      "execution_count": 97,
      "outputs": [
        {
          "output_type": "stream",
          "name": "stdout",
          "text": [
            "[[0.         0.67943746 0.60324097 ... 0.99624431 0.93877834 0.96866649]\n",
            " [0.67186064 0.         0.67013556 ... 0.99797922 0.98053521 0.9755215 ]\n",
            " [0.81139791 0.77675635 0.         ... 0.99667633 0.98210323 0.9756422 ]\n",
            " ...\n",
            " [0.24005269 0.18605481 0.16295858 ... 0.         0.67136753 0.7286855 ]\n",
            " [0.4374505  0.33923146 0.23258685 ... 0.9130258  0.         0.87275368]\n",
            " [0.54261369 0.5548799  0.44907087 ... 0.96229917 0.87731576 0.        ]]\n"
          ]
        }
      ]
    },
    {
      "cell_type": "code",
      "source": [
        "matrix2= doc_pair_array"
      ],
      "metadata": {
        "id": "0TcqKwnI4v8W"
      },
      "execution_count": 98,
      "outputs": []
    },
    {
      "cell_type": "code",
      "source": [
        "# df = pd.DataFrame(matrix2,\n",
        "#                   columns=[\"$D_1$\",\"$D_2$\",\"$D_3$\",\"$D_4$\",\"$D_5$\",\"$D_6$\",\"$D_7$\",\"$D_8$\",\"$D_9$\",\"$D_{10}$\"],\n",
        "#                   index=[\"$D_1$\",\"$D_2$\",\"$D_3$\",\"$D_4$\",\"$D_5$\",\"$D_6$\",\"$D_7$\",\"$D_8$\",\"$D_9$\",\"$D_{10}$\"])\n",
        "\n",
        "df = pd.DataFrame(matrix2,\n",
        "                  columns=[\"$D_1$\",\"$D_2$\",\"$D_3$\",\"$D_4$\",\"$D_5$\",\"$D_6$\",\"$D_7$\",\"$D_8$\",\"$D_9$\",\"$D_{10}$\",\"$D_{11}$\",\"$D_{12}$\",\"$D_{13}$\",\"$D_{14}$\",\"$D_{15}$\",\"$D_{16}$\",\"$D_{17}$\",\"$D_{18}$\",\"$D_{19}$\",\"$D_{20}$\",\"$D_{21}$\",\"$D_{22}$\",\"$D_{23}$\",\"$D_{24}$\",\"$D_{25}$\",\"$D_{26}$\",\"$D_{27}$\",\"$D_{28}$\",\"$D_{29}$\",\"$D_{30}$\",\"$D_{31}$\",\"$D_{32}$\",\"$D_{33}$\",\"$D_{34}$\",\"$D_{35}$\",\"$D_{36}$\",\"$D_{37}$\",\"$D_{38}$\",\"$D_{39}$\",\"$D_{40}$\",\"$D_{41}$\",\"$D_{42}$\",\"$D_{43}$\",\"$D_{44}$\",\"$D_{45}$\",\"$D_{46}$\",\"$D_{47}$\",\"$D_{48}$\",\"$D_{49}$\",\"$D_{50}$\"],\n",
        "                  index=[\"$D_1$\",\"$D_2$\",\"$D_3$\",\"$D_4$\",\"$D_5$\",\"$D_6$\",\"$D_7$\",\"$D_8$\",\"$D_9$\",\"$D_{10}$\",\"$D_{11}$\",\"$D_{12}$\",\"$D_{13}$\",\"$D_{14}$\",\"$D_{15}$\",\"$D_{16}$\",\"$D_{17}$\",\"$D_{18}$\",\"$D_{19}$\",\"$D_{20}$\",\"$D_{21}$\",\"$D_{22}$\",\"$D_{23}$\",\"$D_{24}$\",\"$D_{25}$\",\"$D_{26}$\",\"$D_{27}$\",\"$D_{28}$\",\"$D_{29}$\",\"$D_{30}$\",\"$D_{31}$\",\"$D_{32}$\",\"$D_{33}$\",\"$D_{34}$\",\"$D_{35}$\",\"$D_{36}$\",\"$D_{37}$\",\"$D_{38}$\",\"$D_{39}$\",\"$D_{40}$\",\"$D_{41}$\",\"$D_{42}$\",\"$D_{43}$\",\"$D_{44}$\",\"$D_{45}$\",\"$D_{46}$\",\"$D_{47}$\",\"$D_{48}$\",\"$D_{49}$\",\"$D_{50}$\"])\n",
        "\n",
        "\n"
      ],
      "metadata": {
        "id": "zHqvpH9x3EEJ"
      },
      "execution_count": 99,
      "outputs": []
    },
    {
      "cell_type": "code",
      "source": [
        "# Draw the heatmap with the mask\n",
        "sns.heatmap(df, mask=None, square=True, cmap=\"gray\")\n",
        "plt.yticks(rotation=0) \n",
        "plt.savefig('heatmap2.pdf')"
      ],
      "metadata": {
        "colab": {
          "base_uri": "https://localhost:8080/",
          "height": 278
        },
        "id": "4gyp7pLr4s8R",
        "outputId": "e3c5d073-0d1c-43d2-91d7-ca7c70bb3979"
      },
      "execution_count": 100,
      "outputs": [
        {
          "output_type": "display_data",
          "data": {
            "text/plain": [
              "<Figure size 432x288 with 2 Axes>"
            ],
            "image/png": "[encoded data removed]"
          },
          "metadata": {
            "needs_background": "light"
          }
        }
      ]
    },
    {
      "cell_type": "code",
      "source": [],
      "metadata": {
        "id": "6nEbRVuK43iw"
      },
      "execution_count": null,
      "outputs": []
    }
  ]
}